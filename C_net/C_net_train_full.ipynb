{
 "cells": [
  {
   "cell_type": "code",
   "execution_count": 1,
   "metadata": {
    "colab": {},
    "colab_type": "code",
    "id": "-EtI_zTz9qtO"
   },
   "outputs": [],
   "source": [
    "from __future__ import division, print_function\n",
    "%matplotlib inline\n",
    "import matplotlib.pyplot as plt\n",
    "import matplotlib\n",
    "import numpy as np\n",
    "plt.rcParams['image.cmap'] = 'gist_earth'\n",
    "np.random.seed(98765)"
   ]
  },
  {
   "cell_type": "code",
   "execution_count": 2,
   "metadata": {},
   "outputs": [
    {
     "name": "stdout",
     "output_type": "stream",
     "text": [
      "[name: \"/device:CPU:0\"\n",
      "device_type: \"CPU\"\n",
      "memory_limit: 268435456\n",
      "locality {\n",
      "}\n",
      "incarnation: 12926808748623440780\n",
      ", name: \"/device:GPU:0\"\n",
      "device_type: \"GPU\"\n",
      "memory_limit: 15862523495\n",
      "locality {\n",
      "  bus_id: 1\n",
      "  links {\n",
      "  }\n",
      "}\n",
      "incarnation: 15613354397999890952\n",
      "physical_device_desc: \"device: 0, name: Tesla P100-PCIE-16GB, pci bus id: 0000:0d:00.0, compute capability: 6.0\"\n",
      "]\n"
     ]
    },
    {
     "data": {
      "text/plain": [
       "'/device:GPU:0'"
      ]
     },
     "execution_count": 2,
     "metadata": {},
     "output_type": "execute_result"
    }
   ],
   "source": [
    "import tensorflow as tf\n",
    "tf.test.is_gpu_available()\n",
    "from tensorflow.python.client import device_lib\n",
    "print(device_lib.list_local_devices())\n",
    "tf.test.gpu_device_name()"
   ]
  },
  {
   "cell_type": "code",
   "execution_count": 13,
   "metadata": {
    "colab": {},
    "colab_type": "code",
    "id": "yUbUop5f9qts"
   },
   "outputs": [],
   "source": [
    "import sys\n",
    "# Add the tf_unet folder path to the sys.path list\n",
    "sys.path.append('/data3/floraxue/cs282a/SegmentNet/')\n"
   ]
  },
  {
   "cell_type": "code",
   "execution_count": 14,
   "metadata": {
    "colab": {},
    "colab_type": "code",
    "id": "PtSCzpOt9qt2"
   },
   "outputs": [],
   "source": [
    "from tf_unet import image_gen\n",
    "from tf_unet import unet\n",
    "from tf_unet import util, image_util"
   ]
  },
  {
   "cell_type": "code",
   "execution_count": 15,
   "metadata": {
    "colab": {
     "base_uri": "https://localhost:8080/",
     "height": 68
    },
    "colab_type": "code",
    "executionInfo": {
     "elapsed": 3122,
     "status": "ok",
     "timestamp": 1555184912566,
     "user": {
      "displayName": "Ke XU",
      "photoUrl": "",
      "userId": "10997684134430966891"
     },
     "user_tz": 420
    },
    "id": "piK4rdMz9qu0",
    "outputId": "b5771640-9b9d-4f12-9001-af08d2aee0d4"
   },
   "outputs": [
    {
     "name": "stdout",
     "output_type": "stream",
     "text": [
      "Number of files used: 100\n",
      "Number of channels: 1\n",
      "Number of classes: 2\n"
     ]
    }
   ],
   "source": [
    "#Data input\n",
    "#put your data here\n",
    "path_images = \"/data3/floraxue/cs282a/data/dataset_1/trainval/C_phase_full/\"\n",
    "generator = image_util.ImageDataProvider(path_images+\"*.tif\")\n",
    "#TODO: need to enhance the borders and rethink the matrix vs bkg "
   ]
  },
  {
   "cell_type": "code",
   "execution_count": 18,
   "metadata": {
    "colab": {
     "base_uri": "https://localhost:8080/",
     "height": 261
    },
    "colab_type": "code",
    "executionInfo": {
     "elapsed": 2351,
     "status": "ok",
     "timestamp": 1555184924202,
     "user": {
      "displayName": "Ke XU",
      "photoUrl": "",
      "userId": "10997684134430966891"
     },
     "user_tz": 420
    },
    "id": "byuQyV6L9qvw",
    "outputId": "a73a2ad8-ae56-4866-f546-fdf5d41332f2",
    "scrolled": true
   },
   "outputs": [
    {
     "name": "stderr",
     "output_type": "stream",
     "text": [
      "2019-05-04 19:48:59,511 Layers 3, features 16, filter size 3x3, pool size: 2x2\n"
     ]
    }
   ],
   "source": [
    "net = unet.Unet(channels=1, n_class=2, layers=3, features_root=16)"
   ]
  },
  {
   "cell_type": "code",
   "execution_count": 19,
   "metadata": {
    "colab": {},
    "colab_type": "code",
    "id": "IDe8qbeF9qv1"
   },
   "outputs": [],
   "source": [
    "trainer = unet.Trainer(net, batch_size=1, verification_batch_size = 1, \n",
    "                       optimizer=\"adam\", opt_kwargs=dict(learning_rate = 0.0001))"
   ]
  },
  {
   "cell_type": "code",
   "execution_count": 20,
   "metadata": {
    "colab": {
     "base_uri": "https://localhost:8080/",
     "height": 552
    },
    "colab_type": "code",
    "executionInfo": {
     "elapsed": 182099,
     "status": "ok",
     "timestamp": 1555185570869,
     "user": {
      "displayName": "Ke XU",
      "photoUrl": "",
      "userId": "10997684134430966891"
     },
     "user_tz": 420
    },
    "id": "ojCSdN149qv8",
    "outputId": "51258de9-6182-44a3-ba38-ce4058052200",
    "scrolled": true
   },
   "outputs": [
    {
     "name": "stderr",
     "output_type": "stream",
     "text": [
      "2019-05-04 19:49:01,316 Removing '/data3/floraxue/cs282a/SegmentNet/C_net/prediction'\n",
      "2019-05-04 19:49:01,410 Removing '/data3/floraxue/cs282a/SegmentNet/C_net/unet_C_adam_full'\n",
      "2019-05-04 19:49:01,485 Allocating '/data3/floraxue/cs282a/SegmentNet/C_net/prediction'\n",
      "2019-05-04 19:49:02,993 Verification error= 82.3%, loss= 0.7124\n",
      "2019-05-04 19:49:06,102 Start optimization\n",
      "2019-05-04 19:49:11,769 Iter 0, Minibatch Loss= 0.6963, Training Accuracy= 0.4316, Minibatch error= 56.8%\n",
      "2019-05-04 19:50:01,923 Iter 40, Minibatch Loss= 0.6775, Training Accuracy= 0.7574, Minibatch error= 24.3%\n",
      "2019-05-04 19:50:52,360 Iter 80, Minibatch Loss= 0.6905, Training Accuracy= 0.4801, Minibatch error= 52.0%\n",
      "2019-05-04 19:51:14,459 Epoch 0, Average loss: 0.6720, learning rate: 0.0001\n",
      "2019-05-04 19:51:15,331 Verification error= 17.7%, loss= 0.5176\n",
      "2019-05-04 19:51:46,571 Iter 120, Minibatch Loss= 0.5781, Training Accuracy= 0.3540, Minibatch error= 64.6%\n",
      "2019-05-04 19:52:37,147 Iter 160, Minibatch Loss= 0.2719, Training Accuracy= 0.8776, Minibatch error= 12.2%\n",
      "2019-05-04 19:53:23,394 Epoch 1, Average loss: 0.4350, learning rate: 0.0001\n",
      "2019-05-04 19:53:24,309 Verification error= 11.7%, loss= 0.2695\n",
      "2019-05-04 19:53:31,859 Iter 200, Minibatch Loss= 0.8362, Training Accuracy= 0.5861, Minibatch error= 41.4%\n",
      "2019-05-04 19:54:23,595 Iter 240, Minibatch Loss= 0.2315, Training Accuracy= 0.8509, Minibatch error= 14.9%\n",
      "2019-05-04 19:55:17,725 Iter 280, Minibatch Loss= 0.1970, Training Accuracy= 0.9444, Minibatch error= 5.6%\n",
      "2019-05-04 19:55:41,507 Epoch 2, Average loss: 0.3521, learning rate: 0.0001\n",
      "2019-05-04 19:55:42,429 Verification error= 14.2%, loss= 0.2933\n",
      "2019-05-04 19:55:45,069 Optimization Finished!\n"
     ]
    }
   ],
   "source": [
    "path = trainer.train(generator, \"./unet_C_adam_full\", training_iters=100, epochs=3, display_step=40)"
   ]
  },
  {
   "cell_type": "code",
   "execution_count": null,
   "metadata": {},
   "outputs": [],
   "source": []
  },
  {
   "cell_type": "code",
   "execution_count": null,
   "metadata": {
    "colab": {},
    "colab_type": "code",
    "id": "J5oE7qMe9qu-"
   },
   "outputs": [],
   "source": [
    "from skimage import io\n",
    "x_test = io.imread(path_images+'0000.tif')\n",
    "y_test = io.imread(path_images+'0000_mask.tif')"
   ]
  },
  {
   "cell_type": "code",
   "execution_count": null,
   "metadata": {
    "colab": {
     "base_uri": "https://localhost:8080/",
     "height": 341
    },
    "colab_type": "code",
    "executionInfo": {
     "elapsed": 2340,
     "status": "ok",
     "timestamp": 1555184917942,
     "user": {
      "displayName": "Ke XU",
      "photoUrl": "",
      "userId": "10997684134430966891"
     },
     "user_tz": 420
    },
    "id": "4RcHx_xA9qvT",
    "outputId": "f47e7f4c-3417-401f-d8e3-843244fbcc1a"
   },
   "outputs": [],
   "source": [
    "fig, ax = plt.subplots(1,2, sharey=True, figsize=(10,5))\n",
    "ax[0].imshow(x_test, aspect=\"auto\")\n",
    "ax[1].imshow(y_test, aspect=\"auto\")"
   ]
  },
  {
   "cell_type": "code",
   "execution_count": null,
   "metadata": {
    "colab": {
     "base_uri": "https://localhost:8080/",
     "height": 34
    },
    "colab_type": "code",
    "executionInfo": {
     "elapsed": 1555,
     "status": "ok",
     "timestamp": 1555184916146,
     "user": {
      "displayName": "Ke XU",
      "photoUrl": "",
      "userId": "10997684134430966891"
     },
     "user_tz": 420
    },
    "id": "4ipGcJ9e9qvD",
    "outputId": "4a4f02eb-d938-4527-8d34-d4042ea99f07"
   },
   "outputs": [],
   "source": [
    "x_test.shape"
   ]
  },
  {
   "cell_type": "code",
   "execution_count": null,
   "metadata": {
    "colab": {
     "base_uri": "https://localhost:8080/",
     "height": 68
    },
    "colab_type": "code",
    "executionInfo": {
     "elapsed": 1717,
     "status": "ok",
     "timestamp": 1555185605268,
     "user": {
      "displayName": "Ke XU",
      "photoUrl": "",
      "userId": "10997684134430966891"
     },
     "user_tz": 420
    },
    "id": "3DAiiC7S9qwD",
    "outputId": "dcca1e2f-4977-4aad-f068-9286b5619384"
   },
   "outputs": [],
   "source": [
    "#x_test, y_test = generator(1)\n",
    "h,w = x_test.shape\n",
    "x = x_test.reshape(1,h,w,1)\n",
    "prediction = net.predict(\"./unet_trained/model.ckpt\", x)"
   ]
  },
  {
   "cell_type": "code",
   "execution_count": null,
   "metadata": {
    "colab": {
     "base_uri": "https://localhost:8080/",
     "height": 353
    },
    "colab_type": "code",
    "executionInfo": {
     "elapsed": 2447,
     "status": "ok",
     "timestamp": 1555185612525,
     "user": {
      "displayName": "Ke XU",
      "photoUrl": "",
      "userId": "10997684134430966891"
     },
     "user_tz": 420
    },
    "id": "7pICVQnD9qwQ",
    "outputId": "3ec1d1be-f5dd-49ee-9b07-bea795410d40"
   },
   "outputs": [],
   "source": [
    "fig, ax = plt.subplots(1, 3, sharex=True, sharey=True, figsize=(12,5))\n",
    "ax[0].imshow(x_test, aspect=\"auto\")\n",
    "ax[1].imshow(y_test, aspect=\"auto\")\n",
    "mask = prediction[0,...,1] > 0.1\n",
    "ax[2].imshow(mask, aspect=\"auto\")\n",
    "ax[0].set_title(\"Input\")\n",
    "ax[1].set_title(\"Ground truth\")\n",
    "ax[2].set_title(\"Prediction\")"
   ]
  },
  {
   "cell_type": "code",
   "execution_count": null,
   "metadata": {
    "colab": {},
    "colab_type": "code",
    "id": "mZBvdEwIC-rk"
   },
   "outputs": [],
   "source": [
    "fig.tight_layout()\n",
    "fig.savefig(\"../docs/toy_problem.png\")"
   ]
  },
  {
   "cell_type": "code",
   "execution_count": null,
   "metadata": {
    "colab": {},
    "colab_type": "code",
    "id": "a1Cs7kde9qw3"
   },
   "outputs": [],
   "source": []
  }
 ],
 "metadata": {
  "accelerator": "GPU",
  "colab": {
   "collapsed_sections": [],
   "name": "unet_concrete_segmentation.ipynb",
   "provenance": [],
   "version": "0.3.2"
  },
  "kernelspec": {
   "display_name": "Python 3",
   "language": "python",
   "name": "python3"
  },
  "language_info": {
   "codemirror_mode": {
    "name": "ipython",
    "version": 3
   },
   "file_extension": ".py",
   "mimetype": "text/x-python",
   "name": "python",
   "nbconvert_exporter": "python",
   "pygments_lexer": "ipython3",
   "version": "3.5.2"
  }
 },
 "nbformat": 4,
 "nbformat_minor": 1
}
