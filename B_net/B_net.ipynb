{
 "cells": [
  {
   "cell_type": "code",
   "execution_count": 1,
   "metadata": {
    "colab": {},
    "colab_type": "code",
    "id": "-EtI_zTz9qtO"
   },
   "outputs": [],
   "source": [
    "from __future__ import division, print_function\n",
    "%matplotlib inline\n",
    "import matplotlib.pyplot as plt\n",
    "import matplotlib\n",
    "import numpy as np\n",
    "plt.rcParams['image.cmap'] = 'gist_earth'\n",
    "np.random.seed(98765)"
   ]
  },
  {
   "cell_type": "code",
   "execution_count": 9,
   "metadata": {},
   "outputs": [
    {
     "name": "stdout",
     "output_type": "stream",
     "text": [
      "[name: \"/device:CPU:0\"\n",
      "device_type: \"CPU\"\n",
      "memory_limit: 268435456\n",
      "locality {\n",
      "}\n",
      "incarnation: 4647385322042564884\n",
      ", name: \"/device:GPU:0\"\n",
      "device_type: \"GPU\"\n",
      "memory_limit: 15862523495\n",
      "locality {\n",
      "  bus_id: 1\n",
      "  links {\n",
      "  }\n",
      "}\n",
      "incarnation: 17652903154034894233\n",
      "physical_device_desc: \"device: 0, name: Tesla P100-PCIE-16GB, pci bus id: 0000:0d:00.0, compute capability: 6.0\"\n",
      "]\n"
     ]
    },
    {
     "data": {
      "text/plain": [
       "'/device:GPU:0'"
      ]
     },
     "execution_count": 9,
     "metadata": {},
     "output_type": "execute_result"
    }
   ],
   "source": [
    "import tensorflow as tf\n",
    "tf.test.is_gpu_available()\n",
    "from tensorflow.python.client import device_lib\n",
    "print(device_lib.list_local_devices())\n",
    "tf.test.gpu_device_name()"
   ]
  },
  {
   "cell_type": "code",
   "execution_count": 3,
   "metadata": {
    "colab": {},
    "colab_type": "code",
    "id": "yUbUop5f9qts"
   },
   "outputs": [],
   "source": [
    "import sys\n",
    "# Add the tf_unet folder path to the sys.path list\n",
    "sys.path.append('/data3/floraxue/cs282a/SegmentNet/')\n"
   ]
  },
  {
   "cell_type": "code",
   "execution_count": 4,
   "metadata": {
    "colab": {},
    "colab_type": "code",
    "id": "PtSCzpOt9qt2"
   },
   "outputs": [],
   "source": [
    "from tf_unet import image_gen\n",
    "from tf_unet import unet\n",
    "from tf_unet import util, image_util"
   ]
  },
  {
   "cell_type": "code",
   "execution_count": 5,
   "metadata": {
    "colab": {
     "base_uri": "https://localhost:8080/",
     "height": 68
    },
    "colab_type": "code",
    "executionInfo": {
     "elapsed": 3122,
     "status": "ok",
     "timestamp": 1555184912566,
     "user": {
      "displayName": "Ke XU",
      "photoUrl": "",
      "userId": "10997684134430966891"
     },
     "user_tz": 420
    },
    "id": "piK4rdMz9qu0",
    "outputId": "b5771640-9b9d-4f12-9001-af08d2aee0d4"
   },
   "outputs": [
    {
     "name": "stdout",
     "output_type": "stream",
     "text": [
      "Number of files used: 136900\n",
      "Number of channels: 1\n",
      "Number of classes: 2\n"
     ]
    }
   ],
   "source": [
    "#Data input\n",
    "#put your data here\n",
    "path_images = \"/data3/floraxue/cs282a/data/dataset_1/trainval/B_phase/\"\n",
    "generator = image_util.ImageDataProvider(path_images+\"*.tif\")\n",
    "#TODO: need to enhance the borders and rethink the matrix vs bkg "
   ]
  },
  {
   "cell_type": "code",
   "execution_count": 6,
   "metadata": {
    "colab": {
     "base_uri": "https://localhost:8080/",
     "height": 261
    },
    "colab_type": "code",
    "executionInfo": {
     "elapsed": 2351,
     "status": "ok",
     "timestamp": 1555184924202,
     "user": {
      "displayName": "Ke XU",
      "photoUrl": "",
      "userId": "10997684134430966891"
     },
     "user_tz": 420
    },
    "id": "byuQyV6L9qvw",
    "outputId": "a73a2ad8-ae56-4866-f546-fdf5d41332f2",
    "scrolled": true
   },
   "outputs": [
    {
     "name": "stderr",
     "output_type": "stream",
     "text": [
      "2019-05-02 05:14:15,208 Layers 4, features 16, filter size 3x3, pool size: 2x2\n"
     ]
    }
   ],
   "source": [
    "net = unet.Unet(channels=1, n_class=2, layers=4, features_root=16)"
   ]
  },
  {
   "cell_type": "code",
   "execution_count": 7,
   "metadata": {
    "colab": {},
    "colab_type": "code",
    "id": "IDe8qbeF9qv1"
   },
   "outputs": [],
   "source": [
    "trainer = unet.Trainer(net, batch_size=32, verification_batch_size = 8, \n",
    "                       optimizer=\"momentum\", opt_kwargs=dict(momentum=0.2))"
   ]
  },
  {
   "cell_type": "code",
   "execution_count": 8,
   "metadata": {
    "colab": {
     "base_uri": "https://localhost:8080/",
     "height": 552
    },
    "colab_type": "code",
    "executionInfo": {
     "elapsed": 182099,
     "status": "ok",
     "timestamp": 1555185570869,
     "user": {
      "displayName": "Ke XU",
      "photoUrl": "",
      "userId": "10997684134430966891"
     },
     "user_tz": 420
    },
    "id": "ojCSdN149qv8",
    "outputId": "51258de9-6182-44a3-ba38-ce4058052200",
    "scrolled": true
   },
   "outputs": [
    {
     "name": "stderr",
     "output_type": "stream",
     "text": [
      "2019-05-02 05:15:00,424 Removing '/data3/floraxue/cs282a/SegmentNet/B_net/prediction'\n",
      "2019-05-02 05:15:00,426 Removing '/data3/floraxue/cs282a/SegmentNet/B_net/unet_B'\n",
      "2019-05-02 05:15:00,428 Allocating '/data3/floraxue/cs282a/SegmentNet/B_net/prediction'\n",
      "2019-05-02 05:15:00,430 Allocating '/data3/floraxue/cs282a/SegmentNet/B_net/unet_B'\n",
      "2019-05-02 05:15:02,775 Verification error= 48.4%, loss= 0.6941\n",
      "2019-05-02 05:15:03,225 Start optimization\n",
      "2019-05-02 05:15:07,388 Iter 0, Minibatch Loss= 0.6093, Training Accuracy= 0.8892, Minibatch error= 11.1%\n",
      "2019-05-02 05:32:25,318 Iter 1000, Minibatch Loss= 0.2142, Training Accuracy= 0.9221, Minibatch error= 7.8%\n",
      "2019-05-02 05:49:04,011 Iter 2000, Minibatch Loss= 0.2642, Training Accuracy= 0.8934, Minibatch error= 10.7%\n",
      "2019-05-02 06:05:56,099 Iter 3000, Minibatch Loss= 0.2053, Training Accuracy= 0.9205, Minibatch error= 7.9%\n",
      "2019-05-02 06:23:27,583 Iter 4000, Minibatch Loss= 0.1372, Training Accuracy= 0.9473, Minibatch error= 5.3%\n",
      "2019-05-02 06:28:31,454 Epoch 0, Average loss: 0.2083, learning rate: 0.2000\n",
      "2019-05-02 06:28:31,499 Verification error= 1.0%, loss= 0.0537\n",
      "2019-05-02 06:33:31,396 Iter 5000, Minibatch Loss= 0.1652, Training Accuracy= 0.9410, Minibatch error= 5.9%\n",
      "2019-05-02 06:40:35,284 Iter 6000, Minibatch Loss= 0.1455, Training Accuracy= 0.9477, Minibatch error= 5.2%\n",
      "2019-05-02 06:47:53,468 Iter 7000, Minibatch Loss= 0.1432, Training Accuracy= 0.9447, Minibatch error= 5.5%\n",
      "2019-05-02 06:55:33,600 Iter 8000, Minibatch Loss= 0.1859, Training Accuracy= 0.9307, Minibatch error= 6.9%\n",
      "2019-05-02 07:00:18,409 Epoch 1, Average loss: 0.1774, learning rate: 0.1900\n",
      "2019-05-02 07:00:18,464 Verification error= 1.7%, loss= 0.0443\n",
      "2019-05-02 07:03:07,657 Iter 9000, Minibatch Loss= 0.1147, Training Accuracy= 0.9494, Minibatch error= 5.1%\n",
      "2019-05-02 07:10:16,394 Iter 10000, Minibatch Loss= 0.0869, Training Accuracy= 0.9673, Minibatch error= 3.3%\n",
      "2019-05-02 07:17:07,738 Iter 11000, Minibatch Loss= 0.1608, Training Accuracy= 0.9339, Minibatch error= 6.6%\n",
      "2019-05-02 07:23:37,305 Iter 12000, Minibatch Loss= 0.0740, Training Accuracy= 0.9692, Minibatch error= 3.1%\n",
      "2019-05-02 07:29:30,088 Epoch 2, Average loss: 0.1649, learning rate: 0.1805\n",
      "2019-05-02 07:29:30,140 Verification error= 1.4%, loss= 0.0400\n",
      "2019-05-02 07:29:30,696 Optimization Finished!\n"
     ]
    }
   ],
   "source": [
    "path = trainer.train(generator, \"./unet_B\", training_iters=4300, epochs=3, display_step=1000)"
   ]
  },
  {
   "cell_type": "code",
   "execution_count": null,
   "metadata": {},
   "outputs": [],
   "source": []
  },
  {
   "cell_type": "code",
   "execution_count": null,
   "metadata": {
    "colab": {},
    "colab_type": "code",
    "id": "J5oE7qMe9qu-"
   },
   "outputs": [],
   "source": [
    "from skimage import io\n",
    "x_test = io.imread(path_images+'0000.tif')\n",
    "y_test = io.imread(path_images+'0000_mask.tif')"
   ]
  },
  {
   "cell_type": "code",
   "execution_count": null,
   "metadata": {
    "colab": {
     "base_uri": "https://localhost:8080/",
     "height": 341
    },
    "colab_type": "code",
    "executionInfo": {
     "elapsed": 2340,
     "status": "ok",
     "timestamp": 1555184917942,
     "user": {
      "displayName": "Ke XU",
      "photoUrl": "",
      "userId": "10997684134430966891"
     },
     "user_tz": 420
    },
    "id": "4RcHx_xA9qvT",
    "outputId": "f47e7f4c-3417-401f-d8e3-843244fbcc1a"
   },
   "outputs": [],
   "source": [
    "fig, ax = plt.subplots(1,2, sharey=True, figsize=(10,5))\n",
    "ax[0].imshow(x_test, aspect=\"auto\")\n",
    "ax[1].imshow(y_test, aspect=\"auto\")"
   ]
  },
  {
   "cell_type": "code",
   "execution_count": null,
   "metadata": {
    "colab": {
     "base_uri": "https://localhost:8080/",
     "height": 34
    },
    "colab_type": "code",
    "executionInfo": {
     "elapsed": 1555,
     "status": "ok",
     "timestamp": 1555184916146,
     "user": {
      "displayName": "Ke XU",
      "photoUrl": "",
      "userId": "10997684134430966891"
     },
     "user_tz": 420
    },
    "id": "4ipGcJ9e9qvD",
    "outputId": "4a4f02eb-d938-4527-8d34-d4042ea99f07"
   },
   "outputs": [],
   "source": [
    "x_test.shape"
   ]
  },
  {
   "cell_type": "code",
   "execution_count": null,
   "metadata": {
    "colab": {
     "base_uri": "https://localhost:8080/",
     "height": 33
    },
    "colab_type": "code",
    "executionInfo": {
     "elapsed": 304,
     "status": "ok",
     "timestamp": 1555184205750,
     "user": {
      "displayName": "Ke XU",
      "photoUrl": "",
      "userId": "10997684134430966891"
     },
     "user_tz": 420
    },
    "id": "fQbS42KkLYdv",
    "outputId": "56790f8e-5fec-4327-e772-67825fc5b2af"
   },
   "outputs": [],
   "source": [
    "np.max(generator(4)[1][0,:,:,1])"
   ]
  },
  {
   "cell_type": "code",
   "execution_count": null,
   "metadata": {
    "colab": {
     "base_uri": "https://localhost:8080/",
     "height": 68
    },
    "colab_type": "code",
    "executionInfo": {
     "elapsed": 1717,
     "status": "ok",
     "timestamp": 1555185605268,
     "user": {
      "displayName": "Ke XU",
      "photoUrl": "",
      "userId": "10997684134430966891"
     },
     "user_tz": 420
    },
    "id": "3DAiiC7S9qwD",
    "outputId": "dcca1e2f-4977-4aad-f068-9286b5619384"
   },
   "outputs": [],
   "source": [
    "#x_test, y_test = generator(1)\n",
    "h,w = x_test.shape\n",
    "x = x_test.reshape(1,h,w,1)\n",
    "prediction = net.predict(\"./unet_trained/model.ckpt\", x)"
   ]
  },
  {
   "cell_type": "code",
   "execution_count": null,
   "metadata": {
    "colab": {
     "base_uri": "https://localhost:8080/",
     "height": 353
    },
    "colab_type": "code",
    "executionInfo": {
     "elapsed": 2447,
     "status": "ok",
     "timestamp": 1555185612525,
     "user": {
      "displayName": "Ke XU",
      "photoUrl": "",
      "userId": "10997684134430966891"
     },
     "user_tz": 420
    },
    "id": "7pICVQnD9qwQ",
    "outputId": "3ec1d1be-f5dd-49ee-9b07-bea795410d40"
   },
   "outputs": [],
   "source": [
    "fig, ax = plt.subplots(1, 3, sharex=True, sharey=True, figsize=(12,5))\n",
    "ax[0].imshow(x_test, aspect=\"auto\")\n",
    "ax[1].imshow(y_test, aspect=\"auto\")\n",
    "mask = prediction[0,...,1] > 0.1\n",
    "ax[2].imshow(mask, aspect=\"auto\")\n",
    "ax[0].set_title(\"Input\")\n",
    "ax[1].set_title(\"Ground truth\")\n",
    "ax[2].set_title(\"Prediction\")"
   ]
  },
  {
   "cell_type": "code",
   "execution_count": null,
   "metadata": {
    "colab": {},
    "colab_type": "code",
    "id": "mZBvdEwIC-rk"
   },
   "outputs": [],
   "source": [
    "fig.tight_layout()\n",
    "fig.savefig(\"../docs/toy_problem.png\")"
   ]
  },
  {
   "cell_type": "code",
   "execution_count": null,
   "metadata": {
    "colab": {},
    "colab_type": "code",
    "id": "a1Cs7kde9qw3"
   },
   "outputs": [],
   "source": []
  }
 ],
 "metadata": {
  "accelerator": "GPU",
  "colab": {
   "collapsed_sections": [],
   "name": "unet_concrete_segmentation.ipynb",
   "provenance": [],
   "version": "0.3.2"
  },
  "kernelspec": {
   "display_name": "Python 3",
   "language": "python",
   "name": "python3"
  },
  "language_info": {
   "codemirror_mode": {
    "name": "ipython",
    "version": 3
   },
   "file_extension": ".py",
   "mimetype": "text/x-python",
   "name": "python",
   "nbconvert_exporter": "python",
   "pygments_lexer": "ipython3",
   "version": "3.5.2"
  }
 },
 "nbformat": 4,
 "nbformat_minor": 1
}
