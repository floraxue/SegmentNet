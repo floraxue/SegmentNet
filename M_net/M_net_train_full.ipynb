{
 "cells": [
  {
   "cell_type": "code",
   "execution_count": 1,
   "metadata": {
    "colab": {},
    "colab_type": "code",
    "id": "-EtI_zTz9qtO"
   },
   "outputs": [],
   "source": [
    "from __future__ import division, print_function\n",
    "%matplotlib inline\n",
    "import matplotlib.pyplot as plt\n",
    "import matplotlib\n",
    "import numpy as np\n",
    "plt.rcParams['image.cmap'] = 'gist_earth'\n",
    "np.random.seed(98765)"
   ]
  },
  {
   "cell_type": "code",
   "execution_count": 2,
   "metadata": {},
   "outputs": [
    {
     "name": "stdout",
     "output_type": "stream",
     "text": [
      "[name: \"/device:CPU:0\"\n",
      "device_type: \"CPU\"\n",
      "memory_limit: 268435456\n",
      "locality {\n",
      "}\n",
      "incarnation: 265812221517771837\n",
      ", name: \"/device:GPU:0\"\n",
      "device_type: \"GPU\"\n",
      "memory_limit: 15862461236\n",
      "locality {\n",
      "  bus_id: 1\n",
      "  links {\n",
      "  }\n",
      "}\n",
      "incarnation: 2065933170674148190\n",
      "physical_device_desc: \"device: 0, name: Tesla P100-PCIE-16GB, pci bus id: 0000:0f:00.0, compute capability: 6.0\"\n",
      "]\n"
     ]
    },
    {
     "data": {
      "text/plain": [
       "'/device:GPU:0'"
      ]
     },
     "execution_count": 2,
     "metadata": {},
     "output_type": "execute_result"
    }
   ],
   "source": [
    "import tensorflow as tf\n",
    "tf.test.is_gpu_available()\n",
    "from tensorflow.python.client import device_lib\n",
    "print(device_lib.list_local_devices())\n",
    "tf.test.gpu_device_name()"
   ]
  },
  {
   "cell_type": "code",
   "execution_count": 3,
   "metadata": {
    "colab": {},
    "colab_type": "code",
    "id": "yUbUop5f9qts"
   },
   "outputs": [],
   "source": [
    "import sys\n",
    "# Add the tf_unet folder path to the sys.path list\n",
    "sys.path.append('/data3/floraxue/cs282a/SegmentNet/')\n"
   ]
  },
  {
   "cell_type": "code",
   "execution_count": 4,
   "metadata": {
    "colab": {},
    "colab_type": "code",
    "id": "PtSCzpOt9qt2"
   },
   "outputs": [],
   "source": [
    "from tf_unet import image_gen\n",
    "from tf_unet import unet\n",
    "from tf_unet import util, image_util"
   ]
  },
  {
   "cell_type": "code",
   "execution_count": 5,
   "metadata": {
    "colab": {
     "base_uri": "https://localhost:8080/",
     "height": 68
    },
    "colab_type": "code",
    "executionInfo": {
     "elapsed": 3122,
     "status": "ok",
     "timestamp": 1555184912566,
     "user": {
      "displayName": "Ke XU",
      "photoUrl": "",
      "userId": "10997684134430966891"
     },
     "user_tz": 420
    },
    "id": "piK4rdMz9qu0",
    "outputId": "b5771640-9b9d-4f12-9001-af08d2aee0d4"
   },
   "outputs": [
    {
     "name": "stdout",
     "output_type": "stream",
     "text": [
      "Number of files used: 100\n",
      "Number of channels: 1\n",
      "Number of classes: 2\n"
     ]
    }
   ],
   "source": [
    "#Data input\n",
    "#put your data here\n",
    "path_images = \"/data3/floraxue/cs282a/data/dataset_1/trainval/M_phase_full/\"\n",
    "generator = image_util.ImageDataProvider(path_images+\"*.tif\")\n",
    "#TODO: need to enhance the borders and rethink the matrix vs bkg "
   ]
  },
  {
   "cell_type": "code",
   "execution_count": 8,
   "metadata": {
    "colab": {
     "base_uri": "https://localhost:8080/",
     "height": 261
    },
    "colab_type": "code",
    "executionInfo": {
     "elapsed": 2351,
     "status": "ok",
     "timestamp": 1555184924202,
     "user": {
      "displayName": "Ke XU",
      "photoUrl": "",
      "userId": "10997684134430966891"
     },
     "user_tz": 420
    },
    "id": "byuQyV6L9qvw",
    "outputId": "a73a2ad8-ae56-4866-f546-fdf5d41332f2",
    "scrolled": true
   },
   "outputs": [
    {
     "name": "stderr",
     "output_type": "stream",
     "text": [
      "2019-05-04 19:14:22,318 Layers 2, features 16, filter size 3x3, pool size: 2x2\n"
     ]
    }
   ],
   "source": [
    "net = unet.Unet(channels=1, n_class=2, layers=2, features_root=16)"
   ]
  },
  {
   "cell_type": "code",
   "execution_count": 9,
   "metadata": {
    "colab": {},
    "colab_type": "code",
    "id": "IDe8qbeF9qv1"
   },
   "outputs": [],
   "source": [
    "trainer = unet.Trainer(net, batch_size=1, verification_batch_size = 1, \n",
    "                       optimizer=\"adam\", opt_kwargs=dict(learning_rate = 0.0001))"
   ]
  },
  {
   "cell_type": "code",
   "execution_count": 10,
   "metadata": {
    "colab": {
     "base_uri": "https://localhost:8080/",
     "height": 552
    },
    "colab_type": "code",
    "executionInfo": {
     "elapsed": 182099,
     "status": "ok",
     "timestamp": 1555185570869,
     "user": {
      "displayName": "Ke XU",
      "photoUrl": "",
      "userId": "10997684134430966891"
     },
     "user_tz": 420
    },
    "id": "ojCSdN149qv8",
    "outputId": "51258de9-6182-44a3-ba38-ce4058052200",
    "scrolled": true
   },
   "outputs": [
    {
     "name": "stderr",
     "output_type": "stream",
     "text": [
      "2019-05-04 19:14:25,313 Removing '/data3/floraxue/cs282a/SegmentNet/M_net/prediction'\n",
      "2019-05-04 19:14:25,322 Removing '/data3/floraxue/cs282a/SegmentNet/M_net/unet_M_adam_full'\n",
      "2019-05-04 19:14:25,328 Allocating '/data3/floraxue/cs282a/SegmentNet/M_net/prediction'\n",
      "2019-05-04 19:14:25,333 Allocating '/data3/floraxue/cs282a/SegmentNet/M_net/unet_M_adam_full'\n",
      "2019-05-04 19:14:30,590 Verification error= 50.8%, loss= 0.6935\n",
      "2019-05-04 19:14:33,575 Start optimization\n",
      "2019-05-04 19:14:43,737 Iter 0, Minibatch Loss= 0.6909, Training Accuracy= 0.5172, Minibatch error= 48.3%\n",
      "2019-05-04 19:15:50,828 Iter 40, Minibatch Loss= 0.6104, Training Accuracy= 0.9767, Minibatch error= 2.3%\n",
      "2019-05-04 19:16:56,622 Iter 80, Minibatch Loss= 0.4877, Training Accuracy= 0.9718, Minibatch error= 2.8%\n",
      "2019-05-04 19:17:21,735 Epoch 0, Average loss: 0.5660, learning rate: 0.0001\n",
      "2019-05-04 19:17:22,536 Verification error= 2.6%, loss= 0.3156\n",
      "2019-05-04 19:17:50,912 Iter 120, Minibatch Loss= 0.1429, Training Accuracy= 0.9800, Minibatch error= 2.0%\n",
      "2019-05-04 19:18:36,920 Iter 160, Minibatch Loss= 0.2455, Training Accuracy= 0.9342, Minibatch error= 6.6%\n",
      "2019-05-04 19:19:18,670 Epoch 1, Average loss: 0.2138, learning rate: 0.0001\n",
      "2019-05-04 19:19:19,422 Verification error= 2.6%, loss= 0.1619\n",
      "2019-05-04 19:19:26,886 Iter 200, Minibatch Loss= 0.1704, Training Accuracy= 0.9734, Minibatch error= 2.7%\n",
      "2019-05-04 19:20:12,302 Iter 240, Minibatch Loss= 0.1782, Training Accuracy= 0.9645, Minibatch error= 3.5%\n",
      "2019-05-04 19:20:58,151 Iter 280, Minibatch Loss= 0.1721, Training Accuracy= 0.9695, Minibatch error= 3.0%\n",
      "2019-05-04 19:21:18,030 Epoch 2, Average loss: 0.1975, learning rate: 0.0001\n",
      "2019-05-04 19:21:18,856 Verification error= 2.6%, loss= 0.1452\n",
      "2019-05-04 19:21:47,088 Iter 320, Minibatch Loss= 0.1606, Training Accuracy= 0.9825, Minibatch error= 1.8%\n",
      "2019-05-04 19:22:32,302 Iter 360, Minibatch Loss= 0.4002, Training Accuracy= 0.8656, Minibatch error= 13.4%\n",
      "2019-05-04 19:23:11,883 Epoch 3, Average loss: 0.1942, learning rate: 0.0001\n",
      "2019-05-04 19:23:12,764 Verification error= 2.6%, loss= 0.1589\n",
      "2019-05-04 19:23:20,059 Iter 400, Minibatch Loss= 0.1552, Training Accuracy= 0.9825, Minibatch error= 1.8%\n",
      "2019-05-04 19:24:04,512 Iter 440, Minibatch Loss= 0.1806, Training Accuracy= 0.9621, Minibatch error= 3.8%\n",
      "2019-05-04 19:24:48,520 Iter 480, Minibatch Loss= 0.2395, Training Accuracy= 0.9360, Minibatch error= 6.4%\n",
      "2019-05-04 19:25:07,657 Epoch 4, Average loss: 0.1890, learning rate: 0.0001\n",
      "2019-05-04 19:25:08,418 Verification error= 2.6%, loss= 0.1592\n",
      "2019-05-04 19:25:11,104 Optimization Finished!\n"
     ]
    }
   ],
   "source": [
    "path = trainer.train(generator, \"./unet_M_adam_full\", training_iters=100, epochs=5, display_step=40)"
   ]
  },
  {
   "cell_type": "code",
   "execution_count": null,
   "metadata": {},
   "outputs": [],
   "source": []
  },
  {
   "cell_type": "code",
   "execution_count": null,
   "metadata": {
    "colab": {},
    "colab_type": "code",
    "id": "J5oE7qMe9qu-"
   },
   "outputs": [],
   "source": [
    "from skimage import io\n",
    "x_test = io.imread(path_images+'0000.tif')\n",
    "y_test = io.imread(path_images+'0000_mask.tif')"
   ]
  },
  {
   "cell_type": "code",
   "execution_count": null,
   "metadata": {
    "colab": {
     "base_uri": "https://localhost:8080/",
     "height": 341
    },
    "colab_type": "code",
    "executionInfo": {
     "elapsed": 2340,
     "status": "ok",
     "timestamp": 1555184917942,
     "user": {
      "displayName": "Ke XU",
      "photoUrl": "",
      "userId": "10997684134430966891"
     },
     "user_tz": 420
    },
    "id": "4RcHx_xA9qvT",
    "outputId": "f47e7f4c-3417-401f-d8e3-843244fbcc1a"
   },
   "outputs": [],
   "source": [
    "fig, ax = plt.subplots(1,2, sharey=True, figsize=(10,5))\n",
    "ax[0].imshow(x_test, aspect=\"auto\")\n",
    "ax[1].imshow(y_test, aspect=\"auto\")"
   ]
  },
  {
   "cell_type": "code",
   "execution_count": null,
   "metadata": {
    "colab": {
     "base_uri": "https://localhost:8080/",
     "height": 34
    },
    "colab_type": "code",
    "executionInfo": {
     "elapsed": 1555,
     "status": "ok",
     "timestamp": 1555184916146,
     "user": {
      "displayName": "Ke XU",
      "photoUrl": "",
      "userId": "10997684134430966891"
     },
     "user_tz": 420
    },
    "id": "4ipGcJ9e9qvD",
    "outputId": "4a4f02eb-d938-4527-8d34-d4042ea99f07"
   },
   "outputs": [],
   "source": [
    "x_test.shape"
   ]
  },
  {
   "cell_type": "code",
   "execution_count": null,
   "metadata": {
    "colab": {
     "base_uri": "https://localhost:8080/",
     "height": 68
    },
    "colab_type": "code",
    "executionInfo": {
     "elapsed": 1717,
     "status": "ok",
     "timestamp": 1555185605268,
     "user": {
      "displayName": "Ke XU",
      "photoUrl": "",
      "userId": "10997684134430966891"
     },
     "user_tz": 420
    },
    "id": "3DAiiC7S9qwD",
    "outputId": "dcca1e2f-4977-4aad-f068-9286b5619384"
   },
   "outputs": [],
   "source": [
    "#x_test, y_test = generator(1)\n",
    "h,w = x_test.shape\n",
    "x = x_test.reshape(1,h,w,1)\n",
    "prediction = net.predict(\"./unet_trained/model.ckpt\", x)"
   ]
  },
  {
   "cell_type": "code",
   "execution_count": null,
   "metadata": {
    "colab": {
     "base_uri": "https://localhost:8080/",
     "height": 353
    },
    "colab_type": "code",
    "executionInfo": {
     "elapsed": 2447,
     "status": "ok",
     "timestamp": 1555185612525,
     "user": {
      "displayName": "Ke XU",
      "photoUrl": "",
      "userId": "10997684134430966891"
     },
     "user_tz": 420
    },
    "id": "7pICVQnD9qwQ",
    "outputId": "3ec1d1be-f5dd-49ee-9b07-bea795410d40"
   },
   "outputs": [],
   "source": [
    "fig, ax = plt.subplots(1, 3, sharex=True, sharey=True, figsize=(12,5))\n",
    "ax[0].imshow(x_test, aspect=\"auto\")\n",
    "ax[1].imshow(y_test, aspect=\"auto\")\n",
    "mask = prediction[0,...,1] > 0.1\n",
    "ax[2].imshow(mask, aspect=\"auto\")\n",
    "ax[0].set_title(\"Input\")\n",
    "ax[1].set_title(\"Ground truth\")\n",
    "ax[2].set_title(\"Prediction\")"
   ]
  },
  {
   "cell_type": "code",
   "execution_count": null,
   "metadata": {
    "colab": {},
    "colab_type": "code",
    "id": "mZBvdEwIC-rk"
   },
   "outputs": [],
   "source": [
    "fig.tight_layout()\n",
    "fig.savefig(\"../docs/toy_problem.png\")"
   ]
  },
  {
   "cell_type": "code",
   "execution_count": null,
   "metadata": {
    "colab": {},
    "colab_type": "code",
    "id": "a1Cs7kde9qw3"
   },
   "outputs": [],
   "source": []
  }
 ],
 "metadata": {
  "accelerator": "GPU",
  "colab": {
   "collapsed_sections": [],
   "name": "unet_concrete_segmentation.ipynb",
   "provenance": [],
   "version": "0.3.2"
  },
  "kernelspec": {
   "display_name": "Python 3",
   "language": "python",
   "name": "python3"
  },
  "language_info": {
   "codemirror_mode": {
    "name": "ipython",
    "version": 3
   },
   "file_extension": ".py",
   "mimetype": "text/x-python",
   "name": "python",
   "nbconvert_exporter": "python",
   "pygments_lexer": "ipython3",
   "version": "3.5.2"
  }
 },
 "nbformat": 4,
 "nbformat_minor": 1
}
