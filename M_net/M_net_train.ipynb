{
 "cells": [
  {
   "cell_type": "code",
   "execution_count": 1,
   "metadata": {
    "colab": {},
    "colab_type": "code",
    "id": "-EtI_zTz9qtO"
   },
   "outputs": [],
   "source": [
    "from __future__ import division, print_function\n",
    "%matplotlib inline\n",
    "import matplotlib.pyplot as plt\n",
    "import matplotlib\n",
    "import numpy as np\n",
    "plt.rcParams['image.cmap'] = 'gist_earth'\n",
    "np.random.seed(98765)"
   ]
  },
  {
   "cell_type": "code",
   "execution_count": 2,
   "metadata": {},
   "outputs": [
    {
     "name": "stdout",
     "output_type": "stream",
     "text": [
      "[name: \"/device:CPU:0\"\n",
      "device_type: \"CPU\"\n",
      "memory_limit: 268435456\n",
      "locality {\n",
      "}\n",
      "incarnation: 16020993712792677032\n",
      ", name: \"/device:GPU:0\"\n",
      "device_type: \"GPU\"\n",
      "memory_limit: 15862461236\n",
      "locality {\n",
      "  bus_id: 1\n",
      "  links {\n",
      "  }\n",
      "}\n",
      "incarnation: 7893464480001577617\n",
      "physical_device_desc: \"device: 0, name: Tesla P100-PCIE-16GB, pci bus id: 0000:0f:00.0, compute capability: 6.0\"\n",
      "]\n"
     ]
    },
    {
     "data": {
      "text/plain": [
       "'/device:GPU:0'"
      ]
     },
     "execution_count": 2,
     "metadata": {},
     "output_type": "execute_result"
    }
   ],
   "source": [
    "import tensorflow as tf\n",
    "tf.test.is_gpu_available()\n",
    "from tensorflow.python.client import device_lib\n",
    "print(device_lib.list_local_devices())\n",
    "tf.test.gpu_device_name()"
   ]
  },
  {
   "cell_type": "code",
   "execution_count": 3,
   "metadata": {
    "colab": {},
    "colab_type": "code",
    "id": "yUbUop5f9qts"
   },
   "outputs": [],
   "source": [
    "import sys\n",
    "# Add the tf_unet folder path to the sys.path list\n",
    "sys.path.append('/data3/floraxue/cs282a/SegmentNet/')\n"
   ]
  },
  {
   "cell_type": "code",
   "execution_count": 4,
   "metadata": {
    "colab": {},
    "colab_type": "code",
    "id": "PtSCzpOt9qt2"
   },
   "outputs": [],
   "source": [
    "from tf_unet import image_gen\n",
    "from tf_unet import unet\n",
    "from tf_unet import util, image_util"
   ]
  },
  {
   "cell_type": "code",
   "execution_count": 5,
   "metadata": {
    "colab": {
     "base_uri": "https://localhost:8080/",
     "height": 68
    },
    "colab_type": "code",
    "executionInfo": {
     "elapsed": 3122,
     "status": "ok",
     "timestamp": 1555184912566,
     "user": {
      "displayName": "Ke XU",
      "photoUrl": "",
      "userId": "10997684134430966891"
     },
     "user_tz": 420
    },
    "id": "piK4rdMz9qu0",
    "outputId": "b5771640-9b9d-4f12-9001-af08d2aee0d4"
   },
   "outputs": [
    {
     "name": "stdout",
     "output_type": "stream",
     "text": [
      "Number of files used: 136900\n",
      "Number of channels: 1\n",
      "Number of classes: 2\n"
     ]
    }
   ],
   "source": [
    "#Data input\n",
    "#put your data here\n",
    "path_images = \"/data3/floraxue/cs282a/data/dataset_1/trainval/C_phase/\"\n",
    "generator = image_util.ImageDataProvider(path_images+\"*.tif\")\n",
    "#TODO: need to enhance the borders and rethink the matrix vs bkg "
   ]
  },
  {
   "cell_type": "code",
   "execution_count": 6,
   "metadata": {
    "colab": {
     "base_uri": "https://localhost:8080/",
     "height": 261
    },
    "colab_type": "code",
    "executionInfo": {
     "elapsed": 2351,
     "status": "ok",
     "timestamp": 1555184924202,
     "user": {
      "displayName": "Ke XU",
      "photoUrl": "",
      "userId": "10997684134430966891"
     },
     "user_tz": 420
    },
    "id": "byuQyV6L9qvw",
    "outputId": "a73a2ad8-ae56-4866-f546-fdf5d41332f2",
    "scrolled": true
   },
   "outputs": [
    {
     "name": "stderr",
     "output_type": "stream",
     "text": [
      "2019-05-02 23:38:46,776 Layers 4, features 32, filter size 3x3, pool size: 2x2\n"
     ]
    }
   ],
   "source": [
    "net = unet.Unet(channels=1, n_class=2, layers=4, features_root=32)"
   ]
  },
  {
   "cell_type": "code",
   "execution_count": 9,
   "metadata": {
    "colab": {},
    "colab_type": "code",
    "id": "IDe8qbeF9qv1"
   },
   "outputs": [],
   "source": [
    "trainer = unet.Trainer(net, batch_size=32, verification_batch_size = 320, \n",
    "                       optimizer=\"adam\", opt_kwargs=dict(learning_rate = 0.001))"
   ]
  },
  {
   "cell_type": "code",
   "execution_count": null,
   "metadata": {
    "colab": {
     "base_uri": "https://localhost:8080/",
     "height": 552
    },
    "colab_type": "code",
    "executionInfo": {
     "elapsed": 182099,
     "status": "ok",
     "timestamp": 1555185570869,
     "user": {
      "displayName": "Ke XU",
      "photoUrl": "",
      "userId": "10997684134430966891"
     },
     "user_tz": 420
    },
    "id": "ojCSdN149qv8",
    "outputId": "51258de9-6182-44a3-ba38-ce4058052200",
    "scrolled": true
   },
   "outputs": [
    {
     "name": "stderr",
     "output_type": "stream",
     "text": [
      "2019-05-02 23:39:30,683 Removing '/data3/floraxue/cs282a/SegmentNet/demo/prediction'\n",
      "2019-05-02 23:39:30,688 Removing '/data3/floraxue/cs282a/SegmentNet/demo/unet_C_adam'\n",
      "2019-05-02 23:39:30,718 Allocating '/data3/floraxue/cs282a/SegmentNet/demo/prediction'\n",
      "2019-05-02 23:39:36,167 Verification error= 37.5%, loss= 0.6868\n",
      "2019-05-02 23:39:39,991 Start optimization\n",
      "2019-05-02 23:39:43,623 Iter 0, Minibatch Loss= 0.6769, Training Accuracy= 0.6059, Minibatch error= 39.4%\n",
      "2019-05-02 23:48:48,093 Iter 1000, Minibatch Loss= 0.3324, Training Accuracy= 0.8530, Minibatch error= 14.7%\n",
      "2019-05-02 23:57:53,540 Iter 2000, Minibatch Loss= 0.2037, Training Accuracy= 0.9147, Minibatch error= 8.5%\n",
      "2019-05-03 00:06:58,964 Iter 3000, Minibatch Loss= 0.2977, Training Accuracy= 0.8606, Minibatch error= 13.9%\n",
      "2019-05-03 00:16:03,044 Iter 4000, Minibatch Loss= 0.2010, Training Accuracy= 0.9113, Minibatch error= 8.9%\n",
      "2019-05-03 00:18:45,456 Epoch 0, Average loss: 0.2695, learning rate: 0.0010\n",
      "2019-05-03 00:18:48,224 Verification error= 8.9%, loss= 0.2177\n",
      "2019-05-03 00:25:15,812 Iter 5000, Minibatch Loss= 0.2364, Training Accuracy= 0.9035, Minibatch error= 9.6%\n",
      "2019-05-03 00:34:22,785 Iter 6000, Minibatch Loss= 0.1555, Training Accuracy= 0.9349, Minibatch error= 6.5%\n",
      "2019-05-03 00:43:29,222 Iter 7000, Minibatch Loss= 0.2194, Training Accuracy= 0.9046, Minibatch error= 9.5%\n",
      "2019-05-03 00:52:33,486 Iter 8000, Minibatch Loss= 0.2168, Training Accuracy= 0.8999, Minibatch error= 10.0%\n",
      "2019-05-03 00:57:58,512 Epoch 1, Average loss: 0.1990, learning rate: 0.0010\n",
      "2019-05-03 00:58:01,347 Verification error= 7.5%, loss= 0.1834\n",
      "2019-05-03 01:01:47,502 Iter 9000, Minibatch Loss= 0.2047, Training Accuracy= 0.9116, Minibatch error= 8.8%\n",
      "2019-05-03 01:10:58,916 Iter 10000, Minibatch Loss= 0.2245, Training Accuracy= 0.8987, Minibatch error= 10.1%\n",
      "2019-05-03 01:20:09,002 Iter 11000, Minibatch Loss= 0.1084, Training Accuracy= 0.9566, Minibatch error= 4.3%\n",
      "2019-05-03 01:29:19,937 Iter 12000, Minibatch Loss= 0.1424, Training Accuracy= 0.9393, Minibatch error= 6.1%\n"
     ]
    }
   ],
   "source": [
    "path = trainer.train(generator, \"./unet_C_adam\", training_iters=4300, epochs=3, display_step=1000)"
   ]
  },
  {
   "cell_type": "code",
   "execution_count": null,
   "metadata": {},
   "outputs": [],
   "source": []
  },
  {
   "cell_type": "code",
   "execution_count": null,
   "metadata": {
    "colab": {},
    "colab_type": "code",
    "id": "J5oE7qMe9qu-"
   },
   "outputs": [],
   "source": [
    "from skimage import io\n",
    "x_test = io.imread(path_images+'0000.tif')\n",
    "y_test = io.imread(path_images+'0000_mask.tif')"
   ]
  },
  {
   "cell_type": "code",
   "execution_count": null,
   "metadata": {
    "colab": {
     "base_uri": "https://localhost:8080/",
     "height": 341
    },
    "colab_type": "code",
    "executionInfo": {
     "elapsed": 2340,
     "status": "ok",
     "timestamp": 1555184917942,
     "user": {
      "displayName": "Ke XU",
      "photoUrl": "",
      "userId": "10997684134430966891"
     },
     "user_tz": 420
    },
    "id": "4RcHx_xA9qvT",
    "outputId": "f47e7f4c-3417-401f-d8e3-843244fbcc1a"
   },
   "outputs": [],
   "source": [
    "fig, ax = plt.subplots(1,2, sharey=True, figsize=(10,5))\n",
    "ax[0].imshow(x_test, aspect=\"auto\")\n",
    "ax[1].imshow(y_test, aspect=\"auto\")"
   ]
  },
  {
   "cell_type": "code",
   "execution_count": null,
   "metadata": {
    "colab": {
     "base_uri": "https://localhost:8080/",
     "height": 34
    },
    "colab_type": "code",
    "executionInfo": {
     "elapsed": 1555,
     "status": "ok",
     "timestamp": 1555184916146,
     "user": {
      "displayName": "Ke XU",
      "photoUrl": "",
      "userId": "10997684134430966891"
     },
     "user_tz": 420
    },
    "id": "4ipGcJ9e9qvD",
    "outputId": "4a4f02eb-d938-4527-8d34-d4042ea99f07"
   },
   "outputs": [],
   "source": [
    "x_test.shape"
   ]
  },
  {
   "cell_type": "code",
   "execution_count": null,
   "metadata": {
    "colab": {
     "base_uri": "https://localhost:8080/",
     "height": 68
    },
    "colab_type": "code",
    "executionInfo": {
     "elapsed": 1717,
     "status": "ok",
     "timestamp": 1555185605268,
     "user": {
      "displayName": "Ke XU",
      "photoUrl": "",
      "userId": "10997684134430966891"
     },
     "user_tz": 420
    },
    "id": "3DAiiC7S9qwD",
    "outputId": "dcca1e2f-4977-4aad-f068-9286b5619384"
   },
   "outputs": [],
   "source": [
    "#x_test, y_test = generator(1)\n",
    "h,w = x_test.shape\n",
    "x = x_test.reshape(1,h,w,1)\n",
    "prediction = net.predict(\"./unet_trained/model.ckpt\", x)"
   ]
  },
  {
   "cell_type": "code",
   "execution_count": null,
   "metadata": {
    "colab": {
     "base_uri": "https://localhost:8080/",
     "height": 353
    },
    "colab_type": "code",
    "executionInfo": {
     "elapsed": 2447,
     "status": "ok",
     "timestamp": 1555185612525,
     "user": {
      "displayName": "Ke XU",
      "photoUrl": "",
      "userId": "10997684134430966891"
     },
     "user_tz": 420
    },
    "id": "7pICVQnD9qwQ",
    "outputId": "3ec1d1be-f5dd-49ee-9b07-bea795410d40"
   },
   "outputs": [],
   "source": [
    "fig, ax = plt.subplots(1, 3, sharex=True, sharey=True, figsize=(12,5))\n",
    "ax[0].imshow(x_test, aspect=\"auto\")\n",
    "ax[1].imshow(y_test, aspect=\"auto\")\n",
    "mask = prediction[0,...,1] > 0.1\n",
    "ax[2].imshow(mask, aspect=\"auto\")\n",
    "ax[0].set_title(\"Input\")\n",
    "ax[1].set_title(\"Ground truth\")\n",
    "ax[2].set_title(\"Prediction\")"
   ]
  },
  {
   "cell_type": "code",
   "execution_count": null,
   "metadata": {
    "colab": {},
    "colab_type": "code",
    "id": "mZBvdEwIC-rk"
   },
   "outputs": [],
   "source": [
    "fig.tight_layout()\n",
    "fig.savefig(\"../docs/toy_problem.png\")"
   ]
  },
  {
   "cell_type": "code",
   "execution_count": null,
   "metadata": {
    "colab": {},
    "colab_type": "code",
    "id": "a1Cs7kde9qw3"
   },
   "outputs": [],
   "source": []
  }
 ],
 "metadata": {
  "accelerator": "GPU",
  "colab": {
   "collapsed_sections": [],
   "name": "unet_concrete_segmentation.ipynb",
   "provenance": [],
   "version": "0.3.2"
  },
  "kernelspec": {
   "display_name": "Python 3",
   "language": "python",
   "name": "python3"
  },
  "language_info": {
   "codemirror_mode": {
    "name": "ipython",
    "version": 3
   },
   "file_extension": ".py",
   "mimetype": "text/x-python",
   "name": "python",
   "nbconvert_exporter": "python",
   "pygments_lexer": "ipython3",
   "version": "3.5.2"
  }
 },
 "nbformat": 4,
 "nbformat_minor": 1
}
